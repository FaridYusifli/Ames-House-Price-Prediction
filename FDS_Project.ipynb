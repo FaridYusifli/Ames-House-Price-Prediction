{
 "cells": [
  {
   "cell_type": "code",
   "execution_count": 1,
   "metadata": {},
   "outputs": [],
   "source": [
    "import numpy as np\n",
    "import pandas as pd\n",
    "import sys\n",
    "from sklearn.preprocessing import RobustScaler\n",
    "from sklearn.ensemble import GradientBoostingRegressor\n",
    "from sklearn.linear_model import Lasso\n",
    "\n",
    "def fillColumn(lst,dataset,typee):\n",
    "    if typee == \"Num\":\n",
    "        for col in lst:\n",
    "            dataset[col].fillna(0, inplace = True) \n",
    "    elif typee == \"Str\":\n",
    "        for col in lst:\n",
    "            dataset[col].fillna('None', inplace = True)\n",
    "    elif typee == \"\":\n",
    "        for col in lst:\n",
    "            dataset[col].fillna(dataset[col].mode()[0],inplace=True)\n",
    "    else:\n",
    "        print(\"You send wrong parameter to <fillColumn> function\")\n",
    "        sys.exit()\n",
    "        \n",
    "def meanSum(*args):\n",
    "    return sum(args)/len(args)"
   ]
  },
  {
   "cell_type": "code",
   "execution_count": 2,
   "metadata": {},
   "outputs": [
    {
     "name": "stderr",
     "output_type": "stream",
     "text": [
      "C:\\Users\\Yusif\\Anaconda3\\envs\\tensorflow\\lib\\site-packages\\ipykernel_launcher.py:17: FutureWarning: Sorting because non-concatenation axis is not aligned. A future version\n",
      "of pandas will change to not sort by default.\n",
      "\n",
      "To accept the future behavior, pass 'sort=False'.\n",
      "\n",
      "To retain the current behavior and silence the warning, pass 'sort=True'.\n",
      "\n"
     ]
    }
   ],
   "source": [
    "#read train and test set\n",
    "train=pd.read_csv('train.csv')\n",
    "test=pd.read_csv('test.csv')\n",
    "ID_test = test['Id']\n",
    "\n",
    "#after feature engineering and data visualization,delete some outliers\n",
    "train.drop(train[(train['GrLivArea'] > 4000) & (train['SalePrice'] < 300000)].index, inplace = True)\n",
    "train.drop(train[(train['TotalBsmtSF'] > 5000) & (train['SalePrice'] < 300000)].index, inplace = True)\n",
    "train.drop(train[(train['MasVnrArea'] > 1500) & (train['SalePrice'] < 300000)].index, inplace = True)\n",
    "train.drop(train[(train['BsmtFinSF1'] > 5000) & (train['SalePrice'] < 300000)].index, inplace = True)\n",
    "train.drop(train[(train['LotFrontage'] > 250) & (train['SalePrice'] < 300000)].index, inplace = True)\n",
    "train.drop(train[(train['OpenPorchSF'] > 400) & (train['SalePrice'] < 100000)].index, inplace = True)\n",
    "train.drop(train[(train['OverallQual'] <5) & (train['SalePrice']>200000)].index, inplace=True)\n",
    "train.drop(train[(train['GrLivArea']>4000) & (train['SalePrice']<300000)].index, inplace=True)\n",
    "\n",
    "#merge test and train set\n",
    "all_data = pd.concat([train,test]).reset_index(drop=True)\n",
    "\n",
    "#drop useless columns (some are multicollinear,some has same values for each row)\n",
    "all_data.drop(['TotRmsAbvGrd','GarageArea','Id','Utilities','GarageYrBlt','Alley','FireplaceQu','PoolQC','Fence',\\\n",
    "               'MiscFeature','3SsnPorch','MoSold','BsmtFinSF2','BsmtHalfBath','MiscVal'],axis=1,inplace = True)\n",
    "all_data['Total'] = all_data['TotalBsmtSF'] + all_data['1stFlrSF'] + all_data['2ndFlrSF'] \n",
    "all_data['TimeRemodel'] = all_data['YrSold'].astype(int) - all_data['YearRemodAdd'].astype(int)\n",
    "all_data['FullQuality'] = all_data['OverallQual'] + all_data['OverallCond']"
   ]
  },
  {
   "cell_type": "code",
   "execution_count": 3,
   "metadata": {},
   "outputs": [],
   "source": [
    "y = np.log1p(train['SalePrice'])\n",
    "all_data.drop(['SalePrice'], inplace=True,axis=1)\n",
    "all_data.reset_index(drop=True,inplace=True)\n",
    "\n",
    "group = all_data.groupby('Neighborhood')['LotFrontage'].mean()\n",
    "for index in range(0,all_data.shape[0]):\n",
    "    if np.isnan(all_data.loc[index,'LotFrontage']):\n",
    "        all_data.loc[index,'LotFrontage'] = group[all_data.loc[index,'Neighborhood']]\n",
    "        \n",
    "# Na -> None\n",
    "fillColumn([\"GarageCond\",\"GarageFinish\",\"GarageQual\",\"GarageType\",\"BsmtFinType2\",\"BsmtExposure\",\"BsmtQual\",\\\n",
    "            \"BsmtFinType1\",\"BsmtCond\",\"MasVnrType\"],all_data,\"Str\")\n",
    "#Na -> 0\n",
    "fillColumn([\"MasVnrArea\",\"Total\",\"BsmtFullBath\",\"BsmtFinSF1\",\"BsmtUnfSF\",\"TotalBsmtSF\",\\\n",
    "            \"GarageCars\",\"Functional\",\"KitchenQual\"],all_data,\"Num\")\n",
    "\n",
    "# if value is 'na' then replace it with most common value\n",
    "fillColumn(['Electrical','MSZoning','SaleType','Exterior1st','Exterior2nd'],all_data,\"\")\n",
    "\n",
    "all_data['MSSubClass'] = all_data['MSSubClass'].astype(str)\n",
    "all_data['YrSold'] = all_data['YrSold'].astype(str)\n",
    "\n",
    "# creating dummy variables (0,1) from categorical variables\n",
    "all_data = pd.get_dummies(all_data,drop_first=True)"
   ]
  },
  {
   "cell_type": "code",
   "execution_count": 4,
   "metadata": {},
   "outputs": [],
   "source": [
    "scaler=RobustScaler()\n",
    "\n",
    "train = scaler.fit_transform(all_data[:train.shape[0]])\n",
    "test = scaler.transform(all_data[train.shape[0]:].reset_index(drop=True))\n",
    "\n",
    "Lasso_model_final= Lasso(alpha=0.001).fit(train, y)\n",
    "GBS_model_final=GradientBoostingRegressor(loss='huber', n_estimators=4421,min_samples_split=210,min_samples_leaf=6, \n",
    "                                          learning_rate=0.05,max_depth=2,max_features=27,subsample=0.8).fit(train, y)\n",
    "\n",
    "labels_lasso = np.expm1(Lasso_model_final.predict(test))\n",
    "labels_GBS=np.expm1(GBS_model_final.predict(test))\n",
    "\n",
    "pd.DataFrame({'Id': ID_test, 'SalePrice': meanSum(labels_lasso,labels_GBS)}).to_csv('submission.csv', index =False) "
   ]
  }
 ],
 "metadata": {
  "kernelspec": {
   "display_name": "Python 3",
   "language": "python",
   "name": "python3"
  },
  "language_info": {
   "codemirror_mode": {
    "name": "ipython",
    "version": 3
   },
   "file_extension": ".py",
   "mimetype": "text/x-python",
   "name": "python",
   "nbconvert_exporter": "python",
   "pygments_lexer": "ipython3",
   "version": "3.6.8"
  }
 },
 "nbformat": 4,
 "nbformat_minor": 2
}
